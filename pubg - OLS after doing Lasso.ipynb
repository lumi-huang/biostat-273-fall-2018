{
 "cells": [
  {
   "cell_type": "code",
   "execution_count": 2,
   "metadata": {},
   "outputs": [],
   "source": [
    "import pandas as pd\n",
    "import matplotlib.pyplot as plt\n",
    "import numpy as np"
   ]
  },
  {
   "cell_type": "code",
   "execution_count": 3,
   "metadata": {},
   "outputs": [],
   "source": [
    "pubg_train = pd.read_csv('/Users/lumi/Documents/UCLA/Grad/18 FALL/273/Pubg/pudg/all/train_group.csv')"
   ]
  },
  {
   "cell_type": "code",
   "execution_count": 4,
   "metadata": {},
   "outputs": [],
   "source": [
    "pubg_train = pubg_train.drop(['groupId', 'matchId'], axis = 1)\n",
    "pubg_train['teamsize'] = pubg_train.teamsize.astype('object')\n",
    "pubg_train = pd.get_dummies(pubg_train)"
   ]
  },
  {
   "cell_type": "code",
   "execution_count": 5,
   "metadata": {},
   "outputs": [
    {
     "name": "stderr",
     "output_type": "stream",
     "text": [
      "/Library/Frameworks/Python.framework/Versions/3.6/lib/python3.6/site-packages/ipykernel_launcher.py:6: FutureWarning: Method .as_matrix will be removed in a future version. Use .values instead.\n",
      "  \n"
     ]
    }
   ],
   "source": [
    "dfX = pubg_train.drop(['winPlacePerc', 'winPoints', 'killPoints',\n",
    "                       'kills', 'assists', 'boosts', 'heals','weaponsAcquired', 'KADistance', 'vehicleDestroys',\n",
    "                      'itemDistance', 'roadKills', 'revives', 'longestKill', 'headshotKills', 'damageDealt',\n",
    "                      'teamKills', 'swimDistance', 'KADuration', 'DBNOs'], axis=1)\n",
    "features = dfX.columns.tolist()\n",
    "Xtrain = dfX.as_matrix()"
   ]
  },
  {
   "cell_type": "code",
   "execution_count": 10,
   "metadata": {},
   "outputs": [
    {
     "name": "stderr",
     "output_type": "stream",
     "text": [
      "/Library/Frameworks/Python.framework/Versions/3.6/lib/python3.6/site-packages/ipykernel_launcher.py:1: FutureWarning: Method .as_matrix will be removed in a future version. Use .values instead.\n",
      "  \"\"\"Entry point for launching an IPython kernel.\n"
     ]
    }
   ],
   "source": [
    "ytr = pubg_train['winPlacePerc'].as_matrix()"
   ]
  },
  {
   "cell_type": "code",
   "execution_count": 6,
   "metadata": {},
   "outputs": [
    {
     "name": "stdout",
     "output_type": "stream",
     "text": [
      "number of sample 592454\n",
      "number of feature 10\n"
     ]
    }
   ],
   "source": [
    "nsamp = Xtrain.shape[0]\n",
    "nf = len(features)\n",
    "print('number of sample', nsamp)\n",
    "print('number of feature', nf)"
   ]
  },
  {
   "cell_type": "code",
   "execution_count": 7,
   "metadata": {},
   "outputs": [],
   "source": [
    "from sklearn import preprocessing\n",
    "\n",
    "Xtr = Xtrain.astype(float)\n",
    "Xs = preprocessing.scale(Xtr)\n",
    "#ys = preprocessing.scale(ytr)"
   ]
  },
  {
   "cell_type": "code",
   "execution_count": 8,
   "metadata": {},
   "outputs": [],
   "source": [
    "#regularization with CV\n",
    "from sklearn import linear_model\n",
    "from sklearn import model_selection"
   ]
  },
  {
   "cell_type": "code",
   "execution_count": 11,
   "metadata": {},
   "outputs": [],
   "source": [
    "from sklearn.model_selection import train_test_split\n",
    "\n",
    "X_tr, X_ts, y_tr, y_ts = train_test_split(Xs, ytr, test_size = 0.2, train_size = 0.8)"
   ]
  },
  {
   "cell_type": "code",
   "execution_count": 13,
   "metadata": {},
   "outputs": [
    {
     "data": {
      "text/plain": [
       "LinearRegression(copy_X=True, fit_intercept=True, n_jobs=1, normalize=False)"
      ]
     },
     "execution_count": 13,
     "metadata": {},
     "output_type": "execute_result"
    }
   ],
   "source": [
    "# Fit linear model \n",
    "reg = linear_model.LinearRegression()\n",
    "reg.fit(X_tr, y_tr)"
   ]
  },
  {
   "cell_type": "code",
   "execution_count": 14,
   "metadata": {},
   "outputs": [],
   "source": [
    "#limit target variable in 0 and 1\n",
    "def confine_predictions(x):\n",
    "    for i in range(len(x)):\n",
    "        if x[i] > 1:\n",
    "            x[i] = 1\n",
    "        elif x[i] < 0:\n",
    "            x[i] = 0"
   ]
  },
  {
   "cell_type": "code",
   "execution_count": 15,
   "metadata": {},
   "outputs": [
    {
     "name": "stdout",
     "output_type": "stream",
     "text": [
      "MAE on the test data = 0.07109255468256534\n"
     ]
    }
   ],
   "source": [
    "# Measure normalized mse for the test set and print\n",
    "yhat = reg.predict(X_ts)\n",
    "confine_predictions(yhat)\n",
    "mae_ts = np.mean(abs(y_ts-yhat))\n",
    "print('MAE on the test data =', mae_ts)"
   ]
  },
  {
   "cell_type": "code",
   "execution_count": null,
   "metadata": {},
   "outputs": [],
   "source": []
  }
 ],
 "metadata": {
  "kernelspec": {
   "display_name": "Python 3",
   "language": "python",
   "name": "python3"
  },
  "language_info": {
   "codemirror_mode": {
    "name": "ipython",
    "version": 3
   },
   "file_extension": ".py",
   "mimetype": "text/x-python",
   "name": "python",
   "nbconvert_exporter": "python",
   "pygments_lexer": "ipython3",
   "version": "3.6.5"
  }
 },
 "nbformat": 4,
 "nbformat_minor": 2
}
