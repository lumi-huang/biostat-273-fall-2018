{
 "cells": [
  {
   "cell_type": "code",
   "execution_count": 1,
   "metadata": {},
   "outputs": [],
   "source": [
    "import pandas as pd\n",
    "import matplotlib.pyplot as plt\n",
    "import numpy as np"
   ]
  },
  {
   "cell_type": "code",
   "execution_count": 2,
   "metadata": {},
   "outputs": [],
   "source": [
    "pubg_train = pd.read_csv('/Users/lumi/Documents/UCLA/Grad/18 FALL/273/Pubg/pudg/all/train_group.csv')"
   ]
  },
  {
   "cell_type": "code",
   "execution_count": null,
   "metadata": {},
   "outputs": [],
   "source": [
    "pubg_train.info()\n",
    "pubg_train.shape"
   ]
  },
  {
   "cell_type": "code",
   "execution_count": 3,
   "metadata": {},
   "outputs": [],
   "source": [
    "pubg_train = pubg_train.drop(['groupId', 'matchId'], axis = 1)\n",
    "pubg_train['teamsize'] = pubg_train.teamsize.astype('object')\n",
    "pubg_train = pd.get_dummies(pubg_train)"
   ]
  },
  {
   "cell_type": "code",
   "execution_count": 4,
   "metadata": {},
   "outputs": [
    {
     "name": "stderr",
     "output_type": "stream",
     "text": [
      "/Library/Frameworks/Python.framework/Versions/3.6/lib/python3.6/site-packages/ipykernel_launcher.py:1: FutureWarning: Method .as_matrix will be removed in a future version. Use .values instead.\n",
      "  \"\"\"Entry point for launching an IPython kernel.\n"
     ]
    }
   ],
   "source": [
    "ytr = pubg_train['winPlacePerc'].as_matrix()"
   ]
  },
  {
   "cell_type": "code",
   "execution_count": 5,
   "metadata": {},
   "outputs": [
    {
     "name": "stderr",
     "output_type": "stream",
     "text": [
      "/Library/Frameworks/Python.framework/Versions/3.6/lib/python3.6/site-packages/ipykernel_launcher.py:4: FutureWarning: Method .as_matrix will be removed in a future version. Use .values instead.\n",
      "  after removing the cwd from sys.path.\n"
     ]
    }
   ],
   "source": [
    "dfX = pubg_train.drop(['winPlacePerc', 'winPoints', 'killPoints',\n",
    "                       'kills', 'assists', 'boosts', 'heals','weaponsAcquired'], axis=1)\n",
    "features = dfX.columns.tolist()\n",
    "Xtrain = dfX.as_matrix()"
   ]
  },
  {
   "cell_type": "code",
   "execution_count": 6,
   "metadata": {},
   "outputs": [
    {
     "name": "stdout",
     "output_type": "stream",
     "text": [
      "number of sample 592454\n",
      "number of feature 22\n"
     ]
    }
   ],
   "source": [
    "nsamp = Xtrain.shape[0]\n",
    "nf = len(features)\n",
    "print('number of sample', nsamp)\n",
    "print('number of feature', nf)"
   ]
  },
  {
   "cell_type": "code",
   "execution_count": 62,
   "metadata": {},
   "outputs": [],
   "source": [
    "from sklearn import preprocessing\n",
    "\n",
    "Xtr = Xtrain.astype(float)\n",
    "Xs = preprocessing.scale(Xtr)\n",
    "#ys = preprocessing.scale(ytr)\n"
   ]
  },
  {
   "cell_type": "code",
   "execution_count": 63,
   "metadata": {},
   "outputs": [],
   "source": [
    "#regularization with CV\n",
    "from sklearn import linear_model\n",
    "from sklearn import model_selection"
   ]
  },
  {
   "cell_type": "code",
   "execution_count": 64,
   "metadata": {},
   "outputs": [],
   "source": [
    "from sklearn.model_selection import train_test_split\n",
    "\n",
    "X_tr, X_ts, y_tr, y_ts = train_test_split(Xs, ytr, test_size = 0.2, train_size = 0.8)"
   ]
  },
  {
   "cell_type": "code",
   "execution_count": null,
   "metadata": {},
   "outputs": [],
   "source": []
  },
  {
   "cell_type": "code",
   "execution_count": 66,
   "metadata": {},
   "outputs": [
    {
     "name": "stdout",
     "output_type": "stream",
     "text": [
      "MAE on the training data = 0.0729198225027529\n",
      "MAE on the test data = 0.07287315541359893\n"
     ]
    }
   ],
   "source": [
    "# Fit linear model \n",
    "reg = linear_model.LinearRegression()\n",
    "reg.fit(X_tr, y_tr)\n",
    "\n",
    "# Measure MAE for the training set and print\n",
    "yhat = reg.predict(X_tr)\n",
    "mae_tr = np.mean(abs(y_tr - yhat))\n",
    "print('MAE on the training data =', mae_tr)\n",
    "\n",
    "# Measure normalized mse for the test set and print\n",
    "yhat = reg.predict(X_ts)\n",
    "mae_ts = np.mean(abs(y_ts-yhat))\n",
    "print('MAE on the test data =', mae_ts)"
   ]
  },
  {
   "cell_type": "markdown",
   "metadata": {},
   "source": [
    "Lasso Regression"
   ]
  },
  {
   "cell_type": "code",
   "execution_count": 67,
   "metadata": {},
   "outputs": [],
   "source": [
    "#Fit Lasso\n",
    "lassomodel = linear_model.Lasso(alpha=1e-3)\n",
    "nalpha = 100\n",
    "alpha_test = np.logspace(-4, 3, nalpha)\n",
    "mae_ts_lasso = np.zeros(nalpha)"
   ]
  },
  {
   "cell_type": "code",
   "execution_count": 68,
   "metadata": {},
   "outputs": [],
   "source": [
    "#find optimal alpha\n",
    "for it, a in enumerate(alpha_test):\n",
    "        lassomodel.alpha = a\n",
    "        lassomodel.fit(X_tr, y_tr)\n",
    "        yhat = lassomodel.predict(X_ts)\n",
    "        # MAE\n",
    "        mae_ts_lasso[it] = np.mean(abs(y_ts - yhat))"
   ]
  },
  {
   "cell_type": "code",
   "execution_count": 69,
   "metadata": {},
   "outputs": [
    {
     "name": "stdout",
     "output_type": "stream",
     "text": [
      "the minimum MAE = 0.07289506023497953\n",
      "the alpha that minimizes the MAE is [0.0001]\n"
     ]
    }
   ],
   "source": [
    "minmae = min(mae_ts_lasso)\n",
    "index = np.where(mae_ts_lasso == minmae)\n",
    "print('the minimum MAE =', minmae)\n",
    "print('the alpha that minimizes the MAE is', alpha_test[index])"
   ]
  },
  {
   "cell_type": "code",
   "execution_count": 70,
   "metadata": {},
   "outputs": [],
   "source": [
    "a = alpha_test[index]\n",
    "lassomodel = linear_model.Lasso(alpha = a)\n",
    "lassomodel.fit(X_tr, y_tr)\n",
    "yhat = lassomodel.predict(X_ts)"
   ]
  },
  {
   "cell_type": "code",
   "execution_count": 71,
   "metadata": {},
   "outputs": [],
   "source": [
    "#limit target variable in 0 and 1\n",
    "def confine_predictions(x):\n",
    "    for i in range(len(x)):\n",
    "        if x[i] > 1:\n",
    "            x[i] = 1\n",
    "        elif x[i] < 0:\n",
    "            x[i] = 0"
   ]
  },
  {
   "cell_type": "code",
   "execution_count": 72,
   "metadata": {},
   "outputs": [],
   "source": [
    "confine_predictions(yhat)"
   ]
  },
  {
   "cell_type": "code",
   "execution_count": 73,
   "metadata": {},
   "outputs": [
    {
     "name": "stdout",
     "output_type": "stream",
     "text": [
      "0.07038500152830153\n"
     ]
    }
   ],
   "source": [
    "mae_ts = np.mean(abs(y_ts - yhat))\n",
    "print(mae_ts)"
   ]
  },
  {
   "cell_type": "code",
   "execution_count": 77,
   "metadata": {},
   "outputs": [
    {
     "name": "stdout",
     "output_type": "stream",
     "text": [
      "                            0\n",
      "damageDealt      2.245017e-02\n",
      "DBNOs           -1.648163e-02\n",
      "headshotKills   -1.972281e-03\n",
      "killPlace       -2.053612e-01\n",
      "killStreaks     -8.580115e-02\n",
      "longestKill      1.574607e-03\n",
      "maxPlace         1.601889e-02\n",
      "numGroups        1.556148e-02\n",
      "revives          5.548212e-04\n",
      "rideDistance     2.393491e-02\n",
      "roadKills        2.971793e-05\n",
      "swimDistance     2.262831e-03\n",
      "teamKills       -7.775316e-04\n",
      "vehicleDestroys  6.768504e-07\n",
      "walkDistance     1.231136e-01\n",
      "matchDuration   -3.111114e-02\n",
      "KADistance       0.000000e+00\n",
      "KADuration      -1.886688e-02\n",
      "itemDuration     4.521339e-02\n",
      "itemDistance    -2.860235e-04\n",
      "teamsize_1      -4.286486e-02\n",
      "teamsize_2       4.869134e-17\n"
     ]
    }
   ],
   "source": [
    "coef = lassomodel.coef_\n",
    "rowname = list(dfX)\n",
    "table = pd.DataFrame(coef, index = rowname)\n",
    "print(table)"
   ]
  },
  {
   "cell_type": "code",
   "execution_count": 78,
   "metadata": {},
   "outputs": [
    {
     "data": {
      "text/plain": [
       "<matplotlib.legend.Legend at 0x1087af128>"
      ]
     },
     "execution_count": 78,
     "metadata": {},
     "output_type": "execute_result"
    },
    {
     "data": {
      "image/png": "[encoded data removed]",
      "text/plain": [
       "<Figure size 432x288 with 1 Axes>"
      ]
     },
     "metadata": {},
     "output_type": "display_data"
    }
   ],
   "source": [
    "alphas1, coeffs, _ = linear_model.lasso_path(X_tr, y_tr, method='lasso', alpha = alpha_test)\n",
    "coeffs.shape #predictor * alpha\n",
    "#match an alpha with a row of coef\n",
    "\n",
    "\n",
    "for coef_l in coeffs:\n",
    "    plt.plot(alphas1, coef_l)\n",
    "    \n",
    "plt.xlabel('alpha')\n",
    "plt.ylabel('coef')\n",
    "plt.legend(rowname, loc='upper right')"
   ]
  },
  {
   "cell_type": "code",
   "execution_count": 79,
   "metadata": {},
   "outputs": [
    {
     "data": {
      "text/html": [
       "<div>\n",
       "<style scoped>\n",
       "    .dataframe tbody tr th:only-of-type {\n",
       "        vertical-align: middle;\n",
       "    }\n",
       "\n",
       "    .dataframe tbody tr th {\n",
       "        vertical-align: top;\n",
       "    }\n",
       "\n",
       "    .dataframe thead th {\n",
       "        text-align: right;\n",
       "    }\n",
       "</style>\n",
       "<table border=\"1\" class=\"dataframe\">\n",
       "  <thead>\n",
       "    <tr style=\"text-align: right;\">\n",
       "      <th></th>\n",
       "      <th>nnz</th>\n",
       "    </tr>\n",
       "  </thead>\n",
       "  <tbody>\n",
       "    <tr>\n",
       "      <th>walkDistance</th>\n",
       "      <td>99</td>\n",
       "    </tr>\n",
       "    <tr>\n",
       "      <th>killPlace</th>\n",
       "      <td>96</td>\n",
       "    </tr>\n",
       "    <tr>\n",
       "      <th>itemDuration</th>\n",
       "      <td>93</td>\n",
       "    </tr>\n",
       "    <tr>\n",
       "      <th>rideDistance</th>\n",
       "      <td>66</td>\n",
       "    </tr>\n",
       "    <tr>\n",
       "      <th>matchDuration</th>\n",
       "      <td>64</td>\n",
       "    </tr>\n",
       "    <tr>\n",
       "      <th>maxPlace</th>\n",
       "      <td>63</td>\n",
       "    </tr>\n",
       "    <tr>\n",
       "      <th>numGroups</th>\n",
       "      <td>63</td>\n",
       "    </tr>\n",
       "    <tr>\n",
       "      <th>teamsize_2</th>\n",
       "      <td>59</td>\n",
       "    </tr>\n",
       "    <tr>\n",
       "      <th>teamsize_1</th>\n",
       "      <td>59</td>\n",
       "    </tr>\n",
       "    <tr>\n",
       "      <th>killStreaks</th>\n",
       "      <td>57</td>\n",
       "    </tr>\n",
       "    <tr>\n",
       "      <th>DBNOs</th>\n",
       "      <td>46</td>\n",
       "    </tr>\n",
       "    <tr>\n",
       "      <th>KADuration</th>\n",
       "      <td>39</td>\n",
       "    </tr>\n",
       "    <tr>\n",
       "      <th>swimDistance</th>\n",
       "      <td>33</td>\n",
       "    </tr>\n",
       "    <tr>\n",
       "      <th>teamKills</th>\n",
       "      <td>28</td>\n",
       "    </tr>\n",
       "    <tr>\n",
       "      <th>damageDealt</th>\n",
       "      <td>26</td>\n",
       "    </tr>\n",
       "    <tr>\n",
       "      <th>headshotKills</th>\n",
       "      <td>23</td>\n",
       "    </tr>\n",
       "    <tr>\n",
       "      <th>longestKill</th>\n",
       "      <td>21</td>\n",
       "    </tr>\n",
       "    <tr>\n",
       "      <th>revives</th>\n",
       "      <td>20</td>\n",
       "    </tr>\n",
       "    <tr>\n",
       "      <th>roadKills</th>\n",
       "      <td>11</td>\n",
       "    </tr>\n",
       "    <tr>\n",
       "      <th>itemDistance</th>\n",
       "      <td>6</td>\n",
       "    </tr>\n",
       "    <tr>\n",
       "      <th>vehicleDestroys</th>\n",
       "      <td>0</td>\n",
       "    </tr>\n",
       "    <tr>\n",
       "      <th>KADistance</th>\n",
       "      <td>0</td>\n",
       "    </tr>\n",
       "  </tbody>\n",
       "</table>\n",
       "</div>"
      ],
      "text/plain": [
       "                 nnz\n",
       "walkDistance      99\n",
       "killPlace         96\n",
       "itemDuration      93\n",
       "rideDistance      66\n",
       "matchDuration     64\n",
       "maxPlace          63\n",
       "numGroups         63\n",
       "teamsize_2        59\n",
       "teamsize_1        59\n",
       "killStreaks       57\n",
       "DBNOs             46\n",
       "KADuration        39\n",
       "swimDistance      33\n",
       "teamKills         28\n",
       "damageDealt       26\n",
       "headshotKills     23\n",
       "longestKill       21\n",
       "revives           20\n",
       "roadKills         11\n",
       "itemDistance       6\n",
       "vehicleDestroys    0\n",
       "KADistance         0"
      ]
     },
     "execution_count": 79,
     "metadata": {},
     "output_type": "execute_result"
    }
   ],
   "source": [
    "nonzero = (coeffs != 0).astype(int)\n",
    "nnz = np.sum(nonzero, axis=1)\n",
    "\n",
    "nonzerotable = pd.DataFrame(nnz, index= rowname)\n",
    "nonzerotable.columns = ['nnz']\n",
    "nonzerotable.sort_values(by=['nnz'], ascending=False)"
   ]
  },
  {
   "cell_type": "markdown",
   "metadata": {},
   "source": [
    "Ridge Regression"
   ]
  },
  {
   "cell_type": "code",
   "execution_count": 80,
   "metadata": {},
   "outputs": [],
   "source": [
    "ridgemodel = linear_model.Ridge(alpha=1e-3)\n",
    "nalpha = 100\n",
    "alpha_test = np.logspace(-4, 3, nalpha)\n",
    "mae_ts_ridge = np.zeros(nalpha)"
   ]
  },
  {
   "cell_type": "code",
   "execution_count": 82,
   "metadata": {},
   "outputs": [],
   "source": [
    "#find optimal alpha\n",
    "for it, a in enumerate(alpha_test):\n",
    "        ridgemodel.alpha = a\n",
    "        ridgemodel.fit(X_tr, y_tr)\n",
    "        yhat = ridgemodel.predict(X_ts)\n",
    "        # MAE\n",
    "        mae_ts_ridge[it] = np.mean(abs(y_ts - yhat))"
   ]
  },
  {
   "cell_type": "code",
   "execution_count": 84,
   "metadata": {},
   "outputs": [
    {
     "name": "stdout",
     "output_type": "stream",
     "text": [
      "the minimum MAE = 0.07287336803148992\n",
      "the alpha that minimizes the MAE is [0.0001]\n"
     ]
    }
   ],
   "source": [
    "minmae = min(mae_ts_ridge)\n",
    "index = np.where(mae_ts_ridge == minmae)\n",
    "print('the minimum MAE =', minmae)\n",
    "print('the alpha that minimizes the MAE is', alpha_test[index])"
   ]
  },
  {
   "cell_type": "code",
   "execution_count": 85,
   "metadata": {},
   "outputs": [],
   "source": [
    "a = alpha_test[index]\n",
    "ridgemodel = linear_model.Ridge(alpha = a)\n",
    "ridgemodel.fit(X_tr, y_tr)\n",
    "yhat = ridgemodel.predict(X_ts)"
   ]
  },
  {
   "cell_type": "code",
   "execution_count": 86,
   "metadata": {},
   "outputs": [],
   "source": [
    "confine_predictions(yhat)"
   ]
  },
  {
   "cell_type": "code",
   "execution_count": 87,
   "metadata": {},
   "outputs": [
    {
     "name": "stdout",
     "output_type": "stream",
     "text": [
      "0.07034526554806463\n"
     ]
    }
   ],
   "source": [
    "mae_ts = np.mean(abs(y_ts - yhat))\n",
    "print(mae_ts)"
   ]
  },
  {
   "cell_type": "code",
   "execution_count": 88,
   "metadata": {},
   "outputs": [
    {
     "name": "stdout",
     "output_type": "stream",
     "text": [
      "                        0\n",
      "damageDealt      0.024055\n",
      "DBNOs           -0.017203\n",
      "headshotKills   -0.002139\n",
      "killPlace       -0.206145\n",
      "killStreaks     -0.086411\n",
      "longestKill      0.001777\n",
      "maxPlace         0.016094\n",
      "numGroups        0.015648\n",
      "revives          0.000691\n",
      "rideDistance     0.023965\n",
      "roadKills        0.000130\n",
      "swimDistance     0.002348\n",
      "teamKills       -0.000855\n",
      "vehicleDestroys  0.000086\n",
      "walkDistance     0.122875\n",
      "matchDuration   -0.031387\n",
      "KADistance       0.001482\n",
      "KADuration      -0.019930\n",
      "itemDuration     0.045128\n",
      "itemDistance    -0.001755\n",
      "teamsize_1      -0.021565\n",
      "teamsize_2       0.021565\n"
     ]
    }
   ],
   "source": [
    "coef = ridgemodel.coef_\n",
    "rowname = list(dfX)\n",
    "table = pd.DataFrame(coef, index = rowname)\n",
    "print(table)"
   ]
  },
  {
   "cell_type": "code",
   "execution_count": 90,
   "metadata": {},
   "outputs": [
    {
     "data": {
      "text/html": [
       "<div>\n",
       "<style scoped>\n",
       "    .dataframe tbody tr th:only-of-type {\n",
       "        vertical-align: middle;\n",
       "    }\n",
       "\n",
       "    .dataframe tbody tr th {\n",
       "        vertical-align: top;\n",
       "    }\n",
       "\n",
       "    .dataframe thead th {\n",
       "        text-align: right;\n",
       "    }\n",
       "</style>\n",
       "<table border=\"1\" class=\"dataframe\">\n",
       "  <thead>\n",
       "    <tr style=\"text-align: right;\">\n",
       "      <th></th>\n",
       "      <th>nnz</th>\n",
       "    </tr>\n",
       "  </thead>\n",
       "  <tbody>\n",
       "    <tr>\n",
       "      <th>walkDistance</th>\n",
       "      <td>99</td>\n",
       "    </tr>\n",
       "    <tr>\n",
       "      <th>killPlace</th>\n",
       "      <td>96</td>\n",
       "    </tr>\n",
       "    <tr>\n",
       "      <th>itemDuration</th>\n",
       "      <td>93</td>\n",
       "    </tr>\n",
       "    <tr>\n",
       "      <th>rideDistance</th>\n",
       "      <td>66</td>\n",
       "    </tr>\n",
       "    <tr>\n",
       "      <th>matchDuration</th>\n",
       "      <td>64</td>\n",
       "    </tr>\n",
       "    <tr>\n",
       "      <th>maxPlace</th>\n",
       "      <td>63</td>\n",
       "    </tr>\n",
       "    <tr>\n",
       "      <th>numGroups</th>\n",
       "      <td>63</td>\n",
       "    </tr>\n",
       "    <tr>\n",
       "      <th>teamsize_2</th>\n",
       "      <td>59</td>\n",
       "    </tr>\n",
       "    <tr>\n",
       "      <th>teamsize_1</th>\n",
       "      <td>59</td>\n",
       "    </tr>\n",
       "    <tr>\n",
       "      <th>killStreaks</th>\n",
       "      <td>57</td>\n",
       "    </tr>\n",
       "    <tr>\n",
       "      <th>DBNOs</th>\n",
       "      <td>46</td>\n",
       "    </tr>\n",
       "    <tr>\n",
       "      <th>KADuration</th>\n",
       "      <td>39</td>\n",
       "    </tr>\n",
       "    <tr>\n",
       "      <th>swimDistance</th>\n",
       "      <td>33</td>\n",
       "    </tr>\n",
       "    <tr>\n",
       "      <th>teamKills</th>\n",
       "      <td>28</td>\n",
       "    </tr>\n",
       "    <tr>\n",
       "      <th>damageDealt</th>\n",
       "      <td>26</td>\n",
       "    </tr>\n",
       "    <tr>\n",
       "      <th>headshotKills</th>\n",
       "      <td>23</td>\n",
       "    </tr>\n",
       "    <tr>\n",
       "      <th>longestKill</th>\n",
       "      <td>21</td>\n",
       "    </tr>\n",
       "    <tr>\n",
       "      <th>revives</th>\n",
       "      <td>20</td>\n",
       "    </tr>\n",
       "    <tr>\n",
       "      <th>roadKills</th>\n",
       "      <td>11</td>\n",
       "    </tr>\n",
       "    <tr>\n",
       "      <th>itemDistance</th>\n",
       "      <td>6</td>\n",
       "    </tr>\n",
       "    <tr>\n",
       "      <th>vehicleDestroys</th>\n",
       "      <td>0</td>\n",
       "    </tr>\n",
       "    <tr>\n",
       "      <th>KADistance</th>\n",
       "      <td>0</td>\n",
       "    </tr>\n",
       "  </tbody>\n",
       "</table>\n",
       "</div>"
      ],
      "text/plain": [
       "                 nnz\n",
       "walkDistance      99\n",
       "killPlace         96\n",
       "itemDuration      93\n",
       "rideDistance      66\n",
       "matchDuration     64\n",
       "maxPlace          63\n",
       "numGroups         63\n",
       "teamsize_2        59\n",
       "teamsize_1        59\n",
       "killStreaks       57\n",
       "DBNOs             46\n",
       "KADuration        39\n",
       "swimDistance      33\n",
       "teamKills         28\n",
       "damageDealt       26\n",
       "headshotKills     23\n",
       "longestKill       21\n",
       "revives           20\n",
       "roadKills         11\n",
       "itemDistance       6\n",
       "vehicleDestroys    0\n",
       "KADistance         0"
      ]
     },
     "execution_count": 90,
     "metadata": {},
     "output_type": "execute_result"
    }
   ],
   "source": [
    "nonzero = (coeffs != 0).astype(int)\n",
    "nnz = np.sum(nonzero, axis=1)\n",
    "\n",
    "nonzerotable = pd.DataFrame(nnz, index= rowname)\n",
    "nonzerotable.columns = ['nnz']\n",
    "nonzerotable.sort_values(by=['nnz'], ascending=False)"
   ]
  },
  {
   "cell_type": "code",
   "execution_count": null,
   "metadata": {},
   "outputs": [],
   "source": []
  }
 ],
 "metadata": {
  "kernelspec": {
   "display_name": "Python 3",
   "language": "python",
   "name": "python3"
  },
  "language_info": {
   "codemirror_mode": {
    "name": "ipython",
    "version": 3
   },
   "file_extension": ".py",
   "mimetype": "text/x-python",
   "name": "python",
   "nbconvert_exporter": "python",
   "pygments_lexer": "ipython3",
   "version": "3.6.5"
  }
 },
 "nbformat": 4,
 "nbformat_minor": 2
}
