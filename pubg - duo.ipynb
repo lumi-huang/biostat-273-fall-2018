{
 "cells": [
  {
   "cell_type": "code",
   "execution_count": 3,
   "metadata": {},
   "outputs": [],
   "source": [
    "import pandas as pd\n",
    "import matplotlib.pyplot as plt\n",
    "import numpy as np"
   ]
  },
  {
   "cell_type": "code",
   "execution_count": 4,
   "metadata": {},
   "outputs": [],
   "source": [
    "pubg_train = pd.read_csv('/Users/lumi/Documents/UCLA/Grad/18 FALL/273/Pubg/pudg/all/train_group.csv')"
   ]
  },
  {
   "cell_type": "code",
   "execution_count": null,
   "metadata": {},
   "outputs": [],
   "source": [
    "pubg_train.info()\n",
    "pubg_train.shape"
   ]
  },
  {
   "cell_type": "code",
   "execution_count": null,
   "metadata": {},
   "outputs": [],
   "source": []
  },
  {
   "cell_type": "code",
   "execution_count": null,
   "metadata": {},
   "outputs": [],
   "source": [
    "ytr = pubg_train['winPlacePerc'].as_matrix()"
   ]
  },
  {
   "cell_type": "code",
   "execution_count": null,
   "metadata": {},
   "outputs": [],
   "source": [
    "dfX = pubg_train.drop(['winPlacePerc', 'winPoints', 'killPoints',\n",
    "                       'kills', 'assists', 'boosts', 'heals','weaponsAcquired'], axis=1)\n",
    "\n",
    "Xtrain = dfX.as_matrix()\n",
    "features = dfX.drop(['groupId', 'matchId'], axis = 1).columns.tolist()"
   ]
  },
  {
   "cell_type": "code",
   "execution_count": null,
   "metadata": {},
   "outputs": [],
   "source": []
  },
  {
   "cell_type": "code",
   "execution_count": null,
   "metadata": {},
   "outputs": [],
   "source": [
    "#regularization with CV\n",
    "from sklearn import linear_model\n",
    "from sklearn import model_selection"
   ]
  },
  {
   "cell_type": "code",
   "execution_count": null,
   "metadata": {},
   "outputs": [],
   "source": [
    "from sklearn.model_selection import train_test_split\n",
    "\n",
    "X_tr0, X_ts0, y_tr, y_ts = train_test_split(Xtrain, ytr, test_size = 0.2, train_size = 0.8)\n",
    "#X_tr0 and X_ts0 will keep the match id and group id here"
   ]
  },
  {
   "cell_type": "code",
   "execution_count": null,
   "metadata": {},
   "outputs": [],
   "source": [
    "#remove matchid and group id from train and test data\n",
    "X_tr = np.delete(X_tr0, [0, 1], 1)\n",
    "X_ts = np.delete(X_ts0, [0, 1], 1)"
   ]
  },
  {
   "cell_type": "code",
   "execution_count": null,
   "metadata": {},
   "outputs": [],
   "source": [
    "#get match id and group id\n",
    "id_tr = X_tr0[:,[0,1]]\n",
    "id_ts = X_ts0[:, [0,1]]"
   ]
  },
  {
   "cell_type": "code",
   "execution_count": null,
   "metadata": {},
   "outputs": [],
   "source": []
  },
  {
   "cell_type": "code",
   "execution_count": null,
   "metadata": {},
   "outputs": [],
   "source": [
    "nsamp = Xtrain.shape[0]\n",
    "nf = len(features)\n",
    "print('number of sample', nsamp)\n",
    "print('number of feature', nf)"
   ]
  },
  {
   "cell_type": "code",
   "execution_count": null,
   "metadata": {},
   "outputs": [],
   "source": [
    "from sklearn import preprocessing\n",
    "\n",
    "X_tr = X_tr.astype(float)\n",
    "X_tr = preprocessing.scale(X_tr)\n",
    "X_ts = X_ts.astype(float)\n",
    "X_ts = preprocessing.scale(X_ts)\n",
    "#ys = preprocessing.scale(ytr)\n"
   ]
  },
  {
   "cell_type": "code",
   "execution_count": null,
   "metadata": {},
   "outputs": [],
   "source": [
    "#limit target variable in 0 and 1\n",
    "def confine_predictions(x):\n",
    "    for i in range(len(x)):\n",
    "        if x[i] > 1:\n",
    "            x[i] = 1\n",
    "        elif x[i] < 0:\n",
    "            x[i] = 0"
   ]
  },
  {
   "cell_type": "markdown",
   "metadata": {},
   "source": [
    "OLS Regression"
   ]
  },
  {
   "cell_type": "code",
   "execution_count": 41,
   "metadata": {},
   "outputs": [
    {
     "name": "stdout",
     "output_type": "stream",
     "text": [
      "MAE on the training data = 0.07868786849898912\n"
     ]
    }
   ],
   "source": [
    "# Fit linear model \n",
    "reg = linear_model.LinearRegression()\n",
    "reg.fit(X_tr, y_tr)\n",
    "\n",
    "# Measure MAE for the training set and print\n",
    "yhat = reg.predict(X_tr)\n",
    "mae_tr = np.mean(abs(y_tr - yhat))\n",
    "print('MAE on the training data =', mae_tr)\n",
    "\n"
   ]
  },
  {
   "cell_type": "code",
   "execution_count": 42,
   "metadata": {},
   "outputs": [
    {
     "name": "stdout",
     "output_type": "stream",
     "text": [
      "MAE on the test data = 0.07630574522086866\n"
     ]
    }
   ],
   "source": [
    "yhat = reg.predict(X_ts)\n",
    "confine_predictions(yhat)\n",
    "yhat_OLS = yhat\n",
    "mae_OLS = np.mean(abs(y_ts-yhat_OLS))\n",
    "print('MAE on the test data =', mae_OLS)"
   ]
  },
  {
   "cell_type": "markdown",
   "metadata": {},
   "source": [
    "Lasso Regression"
   ]
  },
  {
   "cell_type": "code",
   "execution_count": 28,
   "metadata": {},
   "outputs": [],
   "source": [
    "#Fit Lasso\n",
    "lassomodel = linear_model.Lasso(alpha=1e-3)\n",
    "nalpha = 100\n",
    "alpha_test = np.logspace(-4, 3, nalpha)\n",
    "mae_ts_lasso = np.zeros(nalpha)"
   ]
  },
  {
   "cell_type": "code",
   "execution_count": 31,
   "metadata": {},
   "outputs": [],
   "source": [
    "#find optimal alpha\n",
    "for it, a in enumerate(alpha_test):\n",
    "        lassomodel.alpha = a\n",
    "        lassomodel.fit(X_tr, y_tr)\n",
    "        yhat = lassomodel.predict(X_ts)\n",
    "        # MAE\n",
    "        mae_ts_lasso[it] = np.mean(abs(y_ts - yhat))"
   ]
  },
  {
   "cell_type": "code",
   "execution_count": 33,
   "metadata": {},
   "outputs": [
    {
     "name": "stdout",
     "output_type": "stream",
     "text": [
      "the minimum MAE = 0.07876953007485529\n",
      "the alpha that minimizes the MAE is [0.0001]\n"
     ]
    }
   ],
   "source": [
    "minmae = min(mae_ts_lasso)\n",
    "index = np.where(mae_ts_lasso == minmae)\n",
    "print('the minimum MAE =', minmae)\n",
    "print('the alpha that minimizes the MAE is', alpha_test[index])"
   ]
  },
  {
   "cell_type": "code",
   "execution_count": 34,
   "metadata": {},
   "outputs": [],
   "source": [
    "a = alpha_test[index]\n",
    "lassomodel = linear_model.Lasso(alpha = a)\n",
    "lassomodel.fit(X_tr, y_tr)\n",
    "yhat = lassomodel.predict(X_ts)"
   ]
  },
  {
   "cell_type": "code",
   "execution_count": 35,
   "metadata": {},
   "outputs": [],
   "source": [
    "confine_predictions(yhat)\n",
    "yhat_lasso = yhat"
   ]
  },
  {
   "cell_type": "code",
   "execution_count": 36,
   "metadata": {},
   "outputs": [
    {
     "name": "stdout",
     "output_type": "stream",
     "text": [
      "0.07641082798531426\n"
     ]
    }
   ],
   "source": [
    "mae_lasso = np.mean(abs(y_ts - yhat_lasso))\n",
    "print(mae_lasso)"
   ]
  },
  {
   "cell_type": "code",
   "execution_count": null,
   "metadata": {},
   "outputs": [],
   "source": [
    "coef = lassomodel.coef_\n",
    "rowname = list(features)\n",
    "table = pd.DataFrame(coef, index = rowname)\n",
    "print(table)"
   ]
  },
  {
   "cell_type": "code",
   "execution_count": null,
   "metadata": {},
   "outputs": [],
   "source": [
    "alphas1, coeffs, _ = linear_model.lasso_path(X_tr, y_tr, method='lasso', alpha = alpha_test)\n",
    "coeffs.shape #predictor * alpha\n",
    "#match an alpha with a row of coef\n",
    "\n",
    "\n",
    "for coef_l in coeffs:\n",
    "    plt.plot(alphas1, coef_l)\n",
    "    \n",
    "plt.xlabel('alpha')\n",
    "plt.ylabel('coef')\n",
    "plt.legend(rowname, loc='upper right')"
   ]
  },
  {
   "cell_type": "code",
   "execution_count": null,
   "metadata": {},
   "outputs": [],
   "source": [
    "nonzero = (coeffs != 0).astype(int)\n",
    "nnz = np.sum(nonzero, axis=1)\n",
    "\n",
    "nonzerotable = pd.DataFrame(nnz, index= rowname)\n",
    "nonzerotable.columns = ['nnz']\n",
    "nonzerotable.sort_values(by=['nnz'], ascending=False)"
   ]
  },
  {
   "cell_type": "markdown",
   "metadata": {},
   "source": [
    "Ridge Regression"
   ]
  },
  {
   "cell_type": "code",
   "execution_count": 37,
   "metadata": {},
   "outputs": [],
   "source": [
    "ridgemodel = linear_model.Ridge(alpha=1e-3)\n",
    "nalpha = 100\n",
    "alpha_test = np.logspace(-4, 3, nalpha)\n",
    "mae_ts_ridge = np.zeros(nalpha)"
   ]
  },
  {
   "cell_type": "code",
   "execution_count": null,
   "metadata": {},
   "outputs": [],
   "source": [
    "#find optimal alpha\n",
    "for it, a in enumerate(alpha_test):\n",
    "        ridgemodel.alpha = a\n",
    "        ridgemodel.fit(X_tr, y_tr)\n",
    "        yhat = ridgemodel.predict(X_ts)\n",
    "        # MAE\n",
    "        mae_ts_ridge[it] = np.mean(abs(y_ts - yhat))"
   ]
  },
  {
   "cell_type": "code",
   "execution_count": null,
   "metadata": {},
   "outputs": [],
   "source": [
    "minmae = min(mae_ts_ridge)\n",
    "index = np.where(mae_ts_ridge == minmae)\n",
    "print('the minimum MAE =', minmae)\n",
    "print('the alpha that minimizes the MAE is', alpha_test[index])"
   ]
  },
  {
   "cell_type": "code",
   "execution_count": 38,
   "metadata": {},
   "outputs": [],
   "source": [
    "a = alpha_test[index]\n",
    "ridgemodel = linear_model.Ridge(alpha = a)\n",
    "ridgemodel.fit(X_tr, y_tr)\n",
    "yhat = ridgemodel.predict(X_ts)"
   ]
  },
  {
   "cell_type": "code",
   "execution_count": 39,
   "metadata": {},
   "outputs": [],
   "source": [
    "confine_predictions(yhat)\n",
    "yhat_ridge = yhat"
   ]
  },
  {
   "cell_type": "code",
   "execution_count": 40,
   "metadata": {},
   "outputs": [
    {
     "name": "stdout",
     "output_type": "stream",
     "text": [
      "0.076305745225682\n"
     ]
    }
   ],
   "source": [
    "mae_ridge = np.mean(abs(y_ts - yhat_ridge))\n",
    "print(mae_ridge)"
   ]
  },
  {
   "cell_type": "code",
   "execution_count": null,
   "metadata": {},
   "outputs": [],
   "source": [
    "coef = ridgemodel.coef_\n",
    "table = pd.DataFrame(coef, index = rowname)\n",
    "print(table)"
   ]
  },
  {
   "cell_type": "code",
   "execution_count": 31,
   "metadata": {},
   "outputs": [
    {
     "data": {
      "text/html": [
       "<div>\n",
       "<style scoped>\n",
       "    .dataframe tbody tr th:only-of-type {\n",
       "        vertical-align: middle;\n",
       "    }\n",
       "\n",
       "    .dataframe tbody tr th {\n",
       "        vertical-align: top;\n",
       "    }\n",
       "\n",
       "    .dataframe thead th {\n",
       "        text-align: right;\n",
       "    }\n",
       "</style>\n",
       "<table border=\"1\" class=\"dataframe\">\n",
       "  <thead>\n",
       "    <tr style=\"text-align: right;\">\n",
       "      <th></th>\n",
       "      <th>nnz</th>\n",
       "    </tr>\n",
       "  </thead>\n",
       "  <tbody>\n",
       "    <tr>\n",
       "      <th>walkDistance</th>\n",
       "      <td>99</td>\n",
       "    </tr>\n",
       "    <tr>\n",
       "      <th>killPlace</th>\n",
       "      <td>99</td>\n",
       "    </tr>\n",
       "    <tr>\n",
       "      <th>itemDuration</th>\n",
       "      <td>91</td>\n",
       "    </tr>\n",
       "    <tr>\n",
       "      <th>numGroups</th>\n",
       "      <td>71</td>\n",
       "    </tr>\n",
       "    <tr>\n",
       "      <th>rideDistance</th>\n",
       "      <td>63</td>\n",
       "    </tr>\n",
       "    <tr>\n",
       "      <th>matchDuration</th>\n",
       "      <td>63</td>\n",
       "    </tr>\n",
       "    <tr>\n",
       "      <th>killStreaks</th>\n",
       "      <td>62</td>\n",
       "    </tr>\n",
       "    <tr>\n",
       "      <th>revives</th>\n",
       "      <td>46</td>\n",
       "    </tr>\n",
       "    <tr>\n",
       "      <th>KADuration</th>\n",
       "      <td>44</td>\n",
       "    </tr>\n",
       "    <tr>\n",
       "      <th>headshotKills</th>\n",
       "      <td>40</td>\n",
       "    </tr>\n",
       "    <tr>\n",
       "      <th>swimDistance</th>\n",
       "      <td>39</td>\n",
       "    </tr>\n",
       "    <tr>\n",
       "      <th>itemDistance</th>\n",
       "      <td>37</td>\n",
       "    </tr>\n",
       "    <tr>\n",
       "      <th>DBNOs</th>\n",
       "      <td>36</td>\n",
       "    </tr>\n",
       "    <tr>\n",
       "      <th>teamKills</th>\n",
       "      <td>32</td>\n",
       "    </tr>\n",
       "    <tr>\n",
       "      <th>roadKills</th>\n",
       "      <td>30</td>\n",
       "    </tr>\n",
       "    <tr>\n",
       "      <th>damageDealt</th>\n",
       "      <td>19</td>\n",
       "    </tr>\n",
       "    <tr>\n",
       "      <th>vehicleDestroys</th>\n",
       "      <td>17</td>\n",
       "    </tr>\n",
       "    <tr>\n",
       "      <th>KADistance</th>\n",
       "      <td>9</td>\n",
       "    </tr>\n",
       "    <tr>\n",
       "      <th>maxPlace</th>\n",
       "      <td>0</td>\n",
       "    </tr>\n",
       "    <tr>\n",
       "      <th>longestKill</th>\n",
       "      <td>0</td>\n",
       "    </tr>\n",
       "  </tbody>\n",
       "</table>\n",
       "</div>"
      ],
      "text/plain": [
       "                 nnz\n",
       "walkDistance      99\n",
       "killPlace         99\n",
       "itemDuration      91\n",
       "numGroups         71\n",
       "rideDistance      63\n",
       "matchDuration     63\n",
       "killStreaks       62\n",
       "revives           46\n",
       "KADuration        44\n",
       "headshotKills     40\n",
       "swimDistance      39\n",
       "itemDistance      37\n",
       "DBNOs             36\n",
       "teamKills         32\n",
       "roadKills         30\n",
       "damageDealt       19\n",
       "vehicleDestroys   17\n",
       "KADistance         9\n",
       "maxPlace           0\n",
       "longestKill        0"
      ]
     },
     "execution_count": 31,
     "metadata": {},
     "output_type": "execute_result"
    }
   ],
   "source": [
    "nonzero = (coeffs != 0).astype(int)\n",
    "nnz = np.sum(nonzero, axis=1)\n",
    "\n",
    "nonzerotable = pd.DataFrame(nnz, index= rowname)\n",
    "nonzerotable.columns = ['nnz']\n",
    "nonzerotable.sort_values(by=['nnz'], ascending=False)"
   ]
  },
  {
   "cell_type": "markdown",
   "metadata": {},
   "source": [
    "Random Forest"
   ]
  },
  {
   "cell_type": "code",
   "execution_count": 13,
   "metadata": {},
   "outputs": [],
   "source": [
    "from sklearn.ensemble import RandomForestRegressor\n",
    "\n",
    "rf = RandomForestRegressor(n_estimators = 100)"
   ]
  },
  {
   "cell_type": "code",
   "execution_count": 14,
   "metadata": {},
   "outputs": [
    {
     "data": {
      "text/plain": [
       "RandomForestRegressor(bootstrap=True, criterion='mse', max_depth=None,\n",
       "           max_features='auto', max_leaf_nodes=None,\n",
       "           min_impurity_decrease=0.0, min_impurity_split=None,\n",
       "           min_samples_leaf=1, min_samples_split=2,\n",
       "           min_weight_fraction_leaf=0.0, n_estimators=100, n_jobs=1,\n",
       "           oob_score=False, random_state=None, verbose=0, warm_start=False)"
      ]
     },
     "execution_count": 14,
     "metadata": {},
     "output_type": "execute_result"
    }
   ],
   "source": [
    "rf.fit(X_tr, y_tr)"
   ]
  },
  {
   "cell_type": "code",
   "execution_count": 16,
   "metadata": {},
   "outputs": [
    {
     "name": "stdout",
     "output_type": "stream",
     "text": [
      "MAE: 0.052245441285688636\n"
     ]
    }
   ],
   "source": [
    "yhat = rf.predict(X_ts)\n",
    "confine_predictions(yhat)\n",
    "yhat_rf = yhat\n",
    "mae_rf = np.mean(abs(y_ts - yhat_rf))\n",
    "print('MAE:', mae_rf)"
   ]
  },
  {
   "cell_type": "markdown",
   "metadata": {},
   "source": [
    "Boosting"
   ]
  },
  {
   "cell_type": "code",
   "execution_count": 21,
   "metadata": {},
   "outputs": [],
   "source": [
    "from xgboost import XGBClassifier\n",
    "from sklearn.metrics import accuracy_score"
   ]
  },
  {
   "cell_type": "code",
   "execution_count": 22,
   "metadata": {},
   "outputs": [],
   "source": [
    "boosting = XGBClassifier(n_estimators = 1)"
   ]
  },
  {
   "cell_type": "code",
   "execution_count": null,
   "metadata": {},
   "outputs": [],
   "source": []
  },
  {
   "cell_type": "code",
   "execution_count": null,
   "metadata": {},
   "outputs": [],
   "source": [
    "boosting.fit(X_tr, y_tr)"
   ]
  },
  {
   "cell_type": "code",
   "execution_count": null,
   "metadata": {},
   "outputs": [],
   "source": [
    "yhat = boosting.predict(X_ts)\n",
    "confine_predictions(yhat)\n",
    "yhat_boosting = yhat\n",
    "mae_boosting = np.mean(abs(y_ts - yhat_boosting))\n",
    "print('MAE:', mae_boosting)"
   ]
  },
  {
   "cell_type": "code",
   "execution_count": 17,
   "metadata": {},
   "outputs": [],
   "source": [
    "#output test train file\n",
    "X_tr_output = pd.DataFrame(X_tr)\n",
    "X_ts_output = pd.DataFrame(X_ts)\n",
    "y_tr_output = pd.DataFrame(y_tr)\n",
    "y_ts_output = pd.DataFrame(y_ts)\n"
   ]
  },
  {
   "cell_type": "code",
   "execution_count": 18,
   "metadata": {},
   "outputs": [],
   "source": [
    "pd.DataFrame.to_csv(X_tr_output, '/Users/lumi/Documents/UCLA/Grad/18 FALL/273/Pubg/pudg/all/X_tr.csv')"
   ]
  },
  {
   "cell_type": "code",
   "execution_count": 19,
   "metadata": {},
   "outputs": [],
   "source": [
    "pd.DataFrame.to_csv(X_ts_output, '/Users/lumi/Documents/UCLA/Grad/18 FALL/273/Pubg/pudg/all/X_ts.csv')"
   ]
  },
  {
   "cell_type": "code",
   "execution_count": 20,
   "metadata": {},
   "outputs": [],
   "source": [
    "pd.DataFrame.to_csv(y_tr_output, '/Users/lumi/Documents/UCLA/Grad/18 FALL/273/Pubg/pudg/all/y_tr.csv')"
   ]
  },
  {
   "cell_type": "code",
   "execution_count": 21,
   "metadata": {},
   "outputs": [],
   "source": [
    "pd.DataFrame.to_csv(y_ts_output, '/Users/lumi/Documents/UCLA/Grad/18 FALL/273/Pubg/pudg/all/y_ts.csv')"
   ]
  },
  {
   "cell_type": "markdown",
   "metadata": {},
   "source": [
    "Get tables for all the predictions"
   ]
  },
  {
   "cell_type": "code",
   "execution_count": 89,
   "metadata": {},
   "outputs": [],
   "source": [
    "matchId = id_ts[:,0].reshape(405349,1)\n",
    "groupId = id_ts[:,1].reshape(405349,1)\n",
    "y_ts1 = y_ts.reshape(405349,1)\n",
    "yhat_OLS1 = yhat_OLS.reshape(405349,1)\n",
    "yhat_lasso1 = yhat_lasso.reshape(405349,1)\n",
    "yhat_ridge1 = yhat_ridge.reshape(405349,1)\n",
    "yhat_rf1 = yhat_rf.reshape(405349,1)"
   ]
  },
  {
   "cell_type": "code",
   "execution_count": 92,
   "metadata": {},
   "outputs": [],
   "source": [
    "prediction = np.concatenate((matchId, groupId, y_ts1, yhat_OLS1, yhat_lasso1, yhat_ridge1, yhat_rf1), axis = 1)"
   ]
  },
  {
   "cell_type": "code",
   "execution_count": 103,
   "metadata": {},
   "outputs": [],
   "source": [
    "prediction1 = pd.DataFrame(prediction, columns = [\"matchId\", \"groupId\", \"y_ts\", \"OLS\", \"lasso\", \"ridge\", \"rf\"])"
   ]
  },
  {
   "cell_type": "code",
   "execution_count": 105,
   "metadata": {},
   "outputs": [],
   "source": [
    "pd.DataFrame.to_csv(prediction1, '/Users/lumi/Documents/UCLA/Grad/18 FALL/273/Pubg/pudg/all/yhat.csv')"
   ]
  },
  {
   "cell_type": "code",
   "execution_count": null,
   "metadata": {},
   "outputs": [],
   "source": []
  }
 ],
 "metadata": {
  "kernelspec": {
   "display_name": "Python 3",
   "language": "python",
   "name": "python3"
  },
  "language_info": {
   "codemirror_mode": {
    "name": "ipython",
    "version": 3
   },
   "file_extension": ".py",
   "mimetype": "text/x-python",
   "name": "python",
   "nbconvert_exporter": "python",
   "pygments_lexer": "ipython3",
   "version": "3.6.5"
  }
 },
 "nbformat": 4,
 "nbformat_minor": 2
}
