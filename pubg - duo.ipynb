{
 "cells": [
  {
   "cell_type": "code",
   "execution_count": 4,
   "metadata": {},
   "outputs": [],
   "source": [
    "import pandas as pd\n",
    "import matplotlib.pyplot as plt\n",
    "import numpy as np"
   ]
  },
  {
   "cell_type": "code",
   "execution_count": 5,
   "metadata": {},
   "outputs": [],
   "source": [
    "pubg_train = pd.read_csv('/Users/lumi/Documents/UCLA/Grad/18 FALL/273/Pubg/pudg/all/train_group.csv')"
   ]
  },
  {
   "cell_type": "code",
   "execution_count": 6,
   "metadata": {},
   "outputs": [
    {
     "name": "stdout",
     "output_type": "stream",
     "text": [
      "<class 'pandas.core.frame.DataFrame'>\n",
      "RangeIndex: 592454 entries, 0 to 592453\n",
      "Data columns (total 31 columns):\n",
      "matchId            592454 non-null object\n",
      "groupId            592454 non-null object\n",
      "teamsize           592454 non-null int64\n",
      "assists            592454 non-null int64\n",
      "boosts             592454 non-null int64\n",
      "damageDealt        592454 non-null float64\n",
      "DBNOs              592454 non-null int64\n",
      "headshotKills      592454 non-null int64\n",
      "heals              592454 non-null int64\n",
      "killPlace          592454 non-null int64\n",
      "killPoints         233274 non-null float64\n",
      "kills              592454 non-null int64\n",
      "killStreaks        592454 non-null float64\n",
      "longestKill        592454 non-null float64\n",
      "maxPlace           592454 non-null int64\n",
      "numGroups          592454 non-null int64\n",
      "revives            592454 non-null int64\n",
      "rideDistance       592454 non-null float64\n",
      "roadKills          592454 non-null int64\n",
      "swimDistance       592454 non-null float64\n",
      "teamKills          592454 non-null int64\n",
      "vehicleDestroys    592454 non-null int64\n",
      "walkDistance       592454 non-null float64\n",
      "weaponsAcquired    592454 non-null int64\n",
      "matchDuration      592454 non-null float64\n",
      "winPoints          233274 non-null float64\n",
      "winPlacePerc       592454 non-null float64\n",
      "KADistance         592454 non-null float64\n",
      "KADuration         592454 non-null float64\n",
      "itemDuration       592454 non-null float64\n",
      "itemDistance       592454 non-null float64\n",
      "dtypes: float64(14), int64(15), object(2)\n",
      "memory usage: 140.1+ MB\n"
     ]
    },
    {
     "data": {
      "text/plain": [
       "(592454, 31)"
      ]
     },
     "execution_count": 6,
     "metadata": {},
     "output_type": "execute_result"
    }
   ],
   "source": [
    "pubg_train.info()\n",
    "pubg_train.shape"
   ]
  },
  {
   "cell_type": "code",
   "execution_count": 7,
   "metadata": {},
   "outputs": [],
   "source": [
    "pubg_train1 = pubg_train\n",
    "pubg_train1['teamsize'] = pubg_train1['teamsize'] - 1"
   ]
  },
  {
   "cell_type": "code",
   "execution_count": 8,
   "metadata": {},
   "outputs": [
    {
     "name": "stderr",
     "output_type": "stream",
     "text": [
      "/Library/Frameworks/Python.framework/Versions/3.6/lib/python3.6/site-packages/ipykernel_launcher.py:1: FutureWarning: Method .as_matrix will be removed in a future version. Use .values instead.\n",
      "  \"\"\"Entry point for launching an IPython kernel.\n"
     ]
    }
   ],
   "source": [
    "ytr = pubg_train1['winPlacePerc'].as_matrix()"
   ]
  },
  {
   "cell_type": "code",
   "execution_count": 9,
   "metadata": {},
   "outputs": [
    {
     "name": "stderr",
     "output_type": "stream",
     "text": [
      "/Library/Frameworks/Python.framework/Versions/3.6/lib/python3.6/site-packages/ipykernel_launcher.py:4: FutureWarning: Method .as_matrix will be removed in a future version. Use .values instead.\n",
      "  after removing the cwd from sys.path.\n"
     ]
    }
   ],
   "source": [
    "dfX = pubg_train1.drop(['winPlacePerc', 'winPoints', 'killPoints',\n",
    "                       'kills', 'assists', 'boosts', 'heals','weaponsAcquired'], axis=1)\n",
    "\n",
    "Xtrain = dfX.as_matrix()\n",
    "features = dfX.drop(['groupId', 'matchId'], axis = 1).columns.tolist()"
   ]
  },
  {
   "cell_type": "code",
   "execution_count": 10,
   "metadata": {},
   "outputs": [],
   "source": [
    "#regularization with CV\n",
    "from sklearn import linear_model\n",
    "from sklearn import model_selection"
   ]
  },
  {
   "cell_type": "code",
   "execution_count": 11,
   "metadata": {},
   "outputs": [],
   "source": [
    "from sklearn.model_selection import train_test_split\n",
    "\n",
    "X_tr0, X_ts0, y_tr, y_ts = train_test_split(Xtrain, ytr, test_size = 0.2, train_size = 0.8)\n",
    "#X_tr0 and X_ts0 will keep the match id and group id here"
   ]
  },
  {
   "cell_type": "code",
   "execution_count": 12,
   "metadata": {},
   "outputs": [],
   "source": [
    "#remove matchid and group id from train and test data\n",
    "X_tr = np.delete(X_tr0, [0, 1], 1)\n",
    "X_ts = np.delete(X_ts0, [0, 1], 1)"
   ]
  },
  {
   "cell_type": "code",
   "execution_count": 13,
   "metadata": {},
   "outputs": [],
   "source": [
    "#get match id and group id\n",
    "id_tr = X_tr0[:,[0,1]]\n",
    "id_ts = X_ts0[:, [0,1]]"
   ]
  },
  {
   "cell_type": "code",
   "execution_count": null,
   "metadata": {},
   "outputs": [],
   "source": []
  },
  {
   "cell_type": "code",
   "execution_count": 14,
   "metadata": {},
   "outputs": [
    {
     "name": "stdout",
     "output_type": "stream",
     "text": [
      "number of sample 592454\n",
      "number of feature 21\n"
     ]
    }
   ],
   "source": [
    "nsamp = Xtrain.shape[0]\n",
    "nf = len(features)\n",
    "print('number of sample', nsamp)\n",
    "print('number of feature', nf)"
   ]
  },
  {
   "cell_type": "code",
   "execution_count": 15,
   "metadata": {},
   "outputs": [],
   "source": [
    "from sklearn import preprocessing\n",
    "\n",
    "X_tr = X_tr.astype(float)\n",
    "X_tr = preprocessing.scale(X_tr)\n",
    "X_ts = X_ts.astype(float)\n",
    "X_ts = preprocessing.scale(X_ts)\n",
    "#ys = preprocessing.scale(ytr)\n"
   ]
  },
  {
   "cell_type": "code",
   "execution_count": 3,
   "metadata": {},
   "outputs": [],
   "source": [
    "#limit target variable in 0 and 1\n",
    "def confine_predictions(x):\n",
    "    for i in range(len(x)):\n",
    "        if x[i] > 1:\n",
    "            x[i] = 1\n",
    "        elif x[i] < 0:\n",
    "            x[i] = 0"
   ]
  },
  {
   "cell_type": "markdown",
   "metadata": {},
   "source": [
    "OLS Regression"
   ]
  },
  {
   "cell_type": "code",
   "execution_count": 69,
   "metadata": {},
   "outputs": [
    {
     "name": "stdout",
     "output_type": "stream",
     "text": [
      "MAE on the training data = 0.07289461756088293\n",
      "MAE on the test data = 0.07041978123914681\n"
     ]
    }
   ],
   "source": [
    "# Fit linear model \n",
    "reg = linear_model.LinearRegression()\n",
    "reg.fit(X_tr, y_tr)\n",
    "\n",
    "# Measure MAE for the training set and print\n",
    "yhat = reg.predict(X_tr)\n",
    "mae_tr = np.mean(abs(y_tr - yhat))\n",
    "print('MAE on the training data =', mae_tr)\n",
    "\n"
   ]
  },
  {
   "cell_type": "code",
   "execution_count": 81,
   "metadata": {},
   "outputs": [
    {
     "name": "stdout",
     "output_type": "stream",
     "text": [
      "MAE on the test data = 0.07041978123914681\n"
     ]
    }
   ],
   "source": [
    "yhat = reg.predict(X_ts)\n",
    "confine_predictions(yhat)\n",
    "yhat_OLS = yhat\n",
    "mae_OLS = np.mean(abs(y_ts-yhat_OLS))\n",
    "print('MAE on the test data =', mae_OLS)"
   ]
  },
  {
   "cell_type": "markdown",
   "metadata": {},
   "source": [
    "Lasso Regression"
   ]
  },
  {
   "cell_type": "code",
   "execution_count": 71,
   "metadata": {},
   "outputs": [],
   "source": [
    "#Fit Lasso\n",
    "lassomodel = linear_model.Lasso(alpha=1e-3)\n",
    "nalpha = 100\n",
    "alpha_test = np.logspace(-4, 3, nalpha)\n",
    "mae_ts_lasso = np.zeros(nalpha)"
   ]
  },
  {
   "cell_type": "code",
   "execution_count": 72,
   "metadata": {},
   "outputs": [],
   "source": [
    "#find optimal alpha\n",
    "for it, a in enumerate(alpha_test):\n",
    "        lassomodel.alpha = a\n",
    "        lassomodel.fit(X_tr, y_tr)\n",
    "        yhat = lassomodel.predict(X_ts)\n",
    "        # MAE\n",
    "        mae_ts_lasso[it] = np.mean(abs(y_ts - yhat))"
   ]
  },
  {
   "cell_type": "code",
   "execution_count": 73,
   "metadata": {},
   "outputs": [
    {
     "name": "stdout",
     "output_type": "stream",
     "text": [
      "the minimum MAE = 0.07299496813267324\n",
      "the alpha that minimizes the MAE is [0.0001]\n"
     ]
    }
   ],
   "source": [
    "minmae = min(mae_ts_lasso)\n",
    "index = np.where(mae_ts_lasso == minmae)\n",
    "print('the minimum MAE =', minmae)\n",
    "print('the alpha that minimizes the MAE is', alpha_test[index])"
   ]
  },
  {
   "cell_type": "code",
   "execution_count": 74,
   "metadata": {},
   "outputs": [],
   "source": [
    "a = alpha_test[index]\n",
    "lassomodel = linear_model.Lasso(alpha = a)\n",
    "lassomodel.fit(X_tr, y_tr)\n",
    "yhat = lassomodel.predict(X_ts)"
   ]
  },
  {
   "cell_type": "code",
   "execution_count": 82,
   "metadata": {},
   "outputs": [],
   "source": [
    "confine_predictions(yhat)\n",
    "yhat_lasso = yhat"
   ]
  },
  {
   "cell_type": "code",
   "execution_count": null,
   "metadata": {},
   "outputs": [],
   "source": []
  },
  {
   "cell_type": "code",
   "execution_count": 84,
   "metadata": {},
   "outputs": [
    {
     "name": "stdout",
     "output_type": "stream",
     "text": [
      "0.07041978123914681\n"
     ]
    }
   ],
   "source": [
    "mae_lasso = np.mean(abs(y_ts - yhat_lasso))\n",
    "print(mae_lasso)"
   ]
  },
  {
   "cell_type": "code",
   "execution_count": 85,
   "metadata": {},
   "outputs": [
    {
     "name": "stdout",
     "output_type": "stream",
     "text": [
      "                        0\n",
      "teamsize         0.042723\n",
      "damageDealt      0.022069\n",
      "DBNOs           -0.016467\n",
      "headshotKills   -0.001985\n",
      "killPlace       -0.205174\n",
      "killStreaks     -0.085615\n",
      "longestKill      0.001235\n",
      "maxPlace         0.015965\n",
      "numGroups        0.015625\n",
      "revives          0.000353\n",
      "rideDistance     0.023939\n",
      "roadKills        0.000053\n",
      "swimDistance     0.002246\n",
      "teamKills       -0.000822\n",
      "vehicleDestroys  0.000000\n",
      "walkDistance     0.123187\n",
      "matchDuration   -0.031194\n",
      "KADistance      -0.000244\n",
      "KADuration      -0.018385\n",
      "itemDuration     0.045507\n",
      "itemDistance    -0.000623\n"
     ]
    }
   ],
   "source": [
    "coef = lassomodel.coef_\n",
    "rowname = list(features)\n",
    "table = pd.DataFrame(coef, index = rowname)\n",
    "print(table)"
   ]
  },
  {
   "cell_type": "code",
   "execution_count": 86,
   "metadata": {},
   "outputs": [
    {
     "data": {
      "text/plain": [
       "<matplotlib.legend.Legend at 0x112ab99e8>"
      ]
     },
     "execution_count": 86,
     "metadata": {},
     "output_type": "execute_result"
    },
    {
     "data": {
      "image/png": "[encoded data removed]",
      "text/plain": [
       "<Figure size 432x288 with 1 Axes>"
      ]
     },
     "metadata": {},
     "output_type": "display_data"
    }
   ],
   "source": [
    "alphas1, coeffs, _ = linear_model.lasso_path(X_tr, y_tr, method='lasso', alpha = alpha_test)\n",
    "coeffs.shape #predictor * alpha\n",
    "#match an alpha with a row of coef\n",
    "\n",
    "\n",
    "for coef_l in coeffs:\n",
    "    plt.plot(alphas1, coef_l)\n",
    "    \n",
    "plt.xlabel('alpha')\n",
    "plt.ylabel('coef')\n",
    "plt.legend(rowname, loc='upper right')"
   ]
  },
  {
   "cell_type": "code",
   "execution_count": 87,
   "metadata": {},
   "outputs": [
    {
     "data": {
      "text/html": [
       "<div>\n",
       "<style scoped>\n",
       "    .dataframe tbody tr th:only-of-type {\n",
       "        vertical-align: middle;\n",
       "    }\n",
       "\n",
       "    .dataframe tbody tr th {\n",
       "        vertical-align: top;\n",
       "    }\n",
       "\n",
       "    .dataframe thead th {\n",
       "        text-align: right;\n",
       "    }\n",
       "</style>\n",
       "<table border=\"1\" class=\"dataframe\">\n",
       "  <thead>\n",
       "    <tr style=\"text-align: right;\">\n",
       "      <th></th>\n",
       "      <th>nnz</th>\n",
       "    </tr>\n",
       "  </thead>\n",
       "  <tbody>\n",
       "    <tr>\n",
       "      <th>walkDistance</th>\n",
       "      <td>100</td>\n",
       "    </tr>\n",
       "    <tr>\n",
       "      <th>killPlace</th>\n",
       "      <td>96</td>\n",
       "    </tr>\n",
       "    <tr>\n",
       "      <th>itemDuration</th>\n",
       "      <td>93</td>\n",
       "    </tr>\n",
       "    <tr>\n",
       "      <th>rideDistance</th>\n",
       "      <td>66</td>\n",
       "    </tr>\n",
       "    <tr>\n",
       "      <th>matchDuration</th>\n",
       "      <td>64</td>\n",
       "    </tr>\n",
       "    <tr>\n",
       "      <th>maxPlace</th>\n",
       "      <td>63</td>\n",
       "    </tr>\n",
       "    <tr>\n",
       "      <th>numGroups</th>\n",
       "      <td>62</td>\n",
       "    </tr>\n",
       "    <tr>\n",
       "      <th>teamsize</th>\n",
       "      <td>59</td>\n",
       "    </tr>\n",
       "    <tr>\n",
       "      <th>killStreaks</th>\n",
       "      <td>57</td>\n",
       "    </tr>\n",
       "    <tr>\n",
       "      <th>DBNOs</th>\n",
       "      <td>47</td>\n",
       "    </tr>\n",
       "    <tr>\n",
       "      <th>KADuration</th>\n",
       "      <td>38</td>\n",
       "    </tr>\n",
       "    <tr>\n",
       "      <th>swimDistance</th>\n",
       "      <td>37</td>\n",
       "    </tr>\n",
       "    <tr>\n",
       "      <th>itemDistance</th>\n",
       "      <td>29</td>\n",
       "    </tr>\n",
       "    <tr>\n",
       "      <th>damageDealt</th>\n",
       "      <td>26</td>\n",
       "    </tr>\n",
       "    <tr>\n",
       "      <th>teamKills</th>\n",
       "      <td>25</td>\n",
       "    </tr>\n",
       "    <tr>\n",
       "      <th>headshotKills</th>\n",
       "      <td>24</td>\n",
       "    </tr>\n",
       "    <tr>\n",
       "      <th>longestKill</th>\n",
       "      <td>16</td>\n",
       "    </tr>\n",
       "    <tr>\n",
       "      <th>KADistance</th>\n",
       "      <td>11</td>\n",
       "    </tr>\n",
       "    <tr>\n",
       "      <th>revives</th>\n",
       "      <td>6</td>\n",
       "    </tr>\n",
       "    <tr>\n",
       "      <th>roadKills</th>\n",
       "      <td>0</td>\n",
       "    </tr>\n",
       "    <tr>\n",
       "      <th>vehicleDestroys</th>\n",
       "      <td>0</td>\n",
       "    </tr>\n",
       "  </tbody>\n",
       "</table>\n",
       "</div>"
      ],
      "text/plain": [
       "                 nnz\n",
       "walkDistance     100\n",
       "killPlace         96\n",
       "itemDuration      93\n",
       "rideDistance      66\n",
       "matchDuration     64\n",
       "maxPlace          63\n",
       "numGroups         62\n",
       "teamsize          59\n",
       "killStreaks       57\n",
       "DBNOs             47\n",
       "KADuration        38\n",
       "swimDistance      37\n",
       "itemDistance      29\n",
       "damageDealt       26\n",
       "teamKills         25\n",
       "headshotKills     24\n",
       "longestKill       16\n",
       "KADistance        11\n",
       "revives            6\n",
       "roadKills          0\n",
       "vehicleDestroys    0"
      ]
     },
     "execution_count": 87,
     "metadata": {},
     "output_type": "execute_result"
    }
   ],
   "source": [
    "nonzero = (coeffs != 0).astype(int)\n",
    "nnz = np.sum(nonzero, axis=1)\n",
    "\n",
    "nonzerotable = pd.DataFrame(nnz, index= rowname)\n",
    "nonzerotable.columns = ['nnz']\n",
    "nonzerotable.sort_values(by=['nnz'], ascending=False)"
   ]
  },
  {
   "cell_type": "markdown",
   "metadata": {},
   "source": [
    "Ridge Regression"
   ]
  },
  {
   "cell_type": "code",
   "execution_count": 88,
   "metadata": {},
   "outputs": [],
   "source": [
    "ridgemodel = linear_model.Ridge(alpha=1e-3)\n",
    "nalpha = 100\n",
    "alpha_test = np.logspace(-4, 3, nalpha)\n",
    "mae_ts_ridge = np.zeros(nalpha)"
   ]
  },
  {
   "cell_type": "code",
   "execution_count": 89,
   "metadata": {},
   "outputs": [],
   "source": [
    "#find optimal alpha\n",
    "for it, a in enumerate(alpha_test):\n",
    "        ridgemodel.alpha = a\n",
    "        ridgemodel.fit(X_tr, y_tr)\n",
    "        yhat = ridgemodel.predict(X_ts)\n",
    "        # MAE\n",
    "        mae_ts_ridge[it] = np.mean(abs(y_ts - yhat))"
   ]
  },
  {
   "cell_type": "code",
   "execution_count": 90,
   "metadata": {},
   "outputs": [
    {
     "name": "stdout",
     "output_type": "stream",
     "text": [
      "the minimum MAE = 0.07297504485773618\n",
      "the alpha that minimizes the MAE is [0.0001]\n"
     ]
    }
   ],
   "source": [
    "minmae = min(mae_ts_ridge)\n",
    "index = np.where(mae_ts_ridge == minmae)\n",
    "print('the minimum MAE =', minmae)\n",
    "print('the alpha that minimizes the MAE is', alpha_test[index])"
   ]
  },
  {
   "cell_type": "code",
   "execution_count": 91,
   "metadata": {},
   "outputs": [],
   "source": [
    "a = alpha_test[index]\n",
    "ridgemodel = linear_model.Ridge(alpha = a)\n",
    "ridgemodel.fit(X_tr, y_tr)\n",
    "yhat = ridgemodel.predict(X_ts)"
   ]
  },
  {
   "cell_type": "code",
   "execution_count": 92,
   "metadata": {},
   "outputs": [],
   "source": [
    "confine_predictions(yhat)\n",
    "yhat_ridge = yhat"
   ]
  },
  {
   "cell_type": "code",
   "execution_count": 93,
   "metadata": {},
   "outputs": [
    {
     "name": "stdout",
     "output_type": "stream",
     "text": [
      "0.0704197812474344\n"
     ]
    }
   ],
   "source": [
    "mae_ridge = np.mean(abs(y_ts - yhat_ridge))\n",
    "print(mae_ridge)"
   ]
  },
  {
   "cell_type": "code",
   "execution_count": 94,
   "metadata": {},
   "outputs": [
    {
     "name": "stdout",
     "output_type": "stream",
     "text": [
      "                        0\n",
      "teamsize         0.043026\n",
      "damageDealt      0.023652\n",
      "DBNOs           -0.017197\n",
      "headshotKills   -0.002155\n",
      "killPlace       -0.206095\n",
      "killStreaks     -0.086255\n",
      "longestKill      0.001427\n",
      "maxPlace         0.016047\n",
      "numGroups        0.015715\n",
      "revives          0.000481\n",
      "rideDistance     0.023977\n",
      "roadKills        0.000154\n",
      "swimDistance     0.002329\n",
      "teamKills       -0.000886\n",
      "vehicleDestroys -0.000008\n",
      "walkDistance     0.122968\n",
      "matchDuration   -0.031456\n",
      "KADistance      -0.000323\n",
      "KADuration      -0.019378\n",
      "itemDuration     0.045349\n",
      "itemDistance    -0.000594\n"
     ]
    }
   ],
   "source": [
    "coef = ridgemodel.coef_\n",
    "table = pd.DataFrame(coef, index = rowname)\n",
    "print(table)"
   ]
  },
  {
   "cell_type": "code",
   "execution_count": 95,
   "metadata": {},
   "outputs": [
    {
     "data": {
      "text/html": [
       "<div>\n",
       "<style scoped>\n",
       "    .dataframe tbody tr th:only-of-type {\n",
       "        vertical-align: middle;\n",
       "    }\n",
       "\n",
       "    .dataframe tbody tr th {\n",
       "        vertical-align: top;\n",
       "    }\n",
       "\n",
       "    .dataframe thead th {\n",
       "        text-align: right;\n",
       "    }\n",
       "</style>\n",
       "<table border=\"1\" class=\"dataframe\">\n",
       "  <thead>\n",
       "    <tr style=\"text-align: right;\">\n",
       "      <th></th>\n",
       "      <th>nnz</th>\n",
       "    </tr>\n",
       "  </thead>\n",
       "  <tbody>\n",
       "    <tr>\n",
       "      <th>walkDistance</th>\n",
       "      <td>100</td>\n",
       "    </tr>\n",
       "    <tr>\n",
       "      <th>killPlace</th>\n",
       "      <td>96</td>\n",
       "    </tr>\n",
       "    <tr>\n",
       "      <th>itemDuration</th>\n",
       "      <td>93</td>\n",
       "    </tr>\n",
       "    <tr>\n",
       "      <th>rideDistance</th>\n",
       "      <td>66</td>\n",
       "    </tr>\n",
       "    <tr>\n",
       "      <th>matchDuration</th>\n",
       "      <td>64</td>\n",
       "    </tr>\n",
       "    <tr>\n",
       "      <th>maxPlace</th>\n",
       "      <td>63</td>\n",
       "    </tr>\n",
       "    <tr>\n",
       "      <th>numGroups</th>\n",
       "      <td>62</td>\n",
       "    </tr>\n",
       "    <tr>\n",
       "      <th>teamsize</th>\n",
       "      <td>59</td>\n",
       "    </tr>\n",
       "    <tr>\n",
       "      <th>killStreaks</th>\n",
       "      <td>57</td>\n",
       "    </tr>\n",
       "    <tr>\n",
       "      <th>DBNOs</th>\n",
       "      <td>47</td>\n",
       "    </tr>\n",
       "    <tr>\n",
       "      <th>KADuration</th>\n",
       "      <td>38</td>\n",
       "    </tr>\n",
       "    <tr>\n",
       "      <th>swimDistance</th>\n",
       "      <td>37</td>\n",
       "    </tr>\n",
       "    <tr>\n",
       "      <th>itemDistance</th>\n",
       "      <td>29</td>\n",
       "    </tr>\n",
       "    <tr>\n",
       "      <th>damageDealt</th>\n",
       "      <td>26</td>\n",
       "    </tr>\n",
       "    <tr>\n",
       "      <th>teamKills</th>\n",
       "      <td>25</td>\n",
       "    </tr>\n",
       "    <tr>\n",
       "      <th>headshotKills</th>\n",
       "      <td>24</td>\n",
       "    </tr>\n",
       "    <tr>\n",
       "      <th>longestKill</th>\n",
       "      <td>16</td>\n",
       "    </tr>\n",
       "    <tr>\n",
       "      <th>KADistance</th>\n",
       "      <td>11</td>\n",
       "    </tr>\n",
       "    <tr>\n",
       "      <th>revives</th>\n",
       "      <td>6</td>\n",
       "    </tr>\n",
       "    <tr>\n",
       "      <th>roadKills</th>\n",
       "      <td>0</td>\n",
       "    </tr>\n",
       "    <tr>\n",
       "      <th>vehicleDestroys</th>\n",
       "      <td>0</td>\n",
       "    </tr>\n",
       "  </tbody>\n",
       "</table>\n",
       "</div>"
      ],
      "text/plain": [
       "                 nnz\n",
       "walkDistance     100\n",
       "killPlace         96\n",
       "itemDuration      93\n",
       "rideDistance      66\n",
       "matchDuration     64\n",
       "maxPlace          63\n",
       "numGroups         62\n",
       "teamsize          59\n",
       "killStreaks       57\n",
       "DBNOs             47\n",
       "KADuration        38\n",
       "swimDistance      37\n",
       "itemDistance      29\n",
       "damageDealt       26\n",
       "teamKills         25\n",
       "headshotKills     24\n",
       "longestKill       16\n",
       "KADistance        11\n",
       "revives            6\n",
       "roadKills          0\n",
       "vehicleDestroys    0"
      ]
     },
     "execution_count": 95,
     "metadata": {},
     "output_type": "execute_result"
    }
   ],
   "source": [
    "nonzero = (coeffs != 0).astype(int)\n",
    "nnz = np.sum(nonzero, axis=1)\n",
    "\n",
    "nonzerotable = pd.DataFrame(nnz, index= rowname)\n",
    "nonzerotable.columns = ['nnz']\n",
    "nonzerotable.sort_values(by=['nnz'], ascending=False)"
   ]
  },
  {
   "cell_type": "markdown",
   "metadata": {},
   "source": [
    "Random Forest"
   ]
  },
  {
   "cell_type": "code",
   "execution_count": 96,
   "metadata": {},
   "outputs": [],
   "source": [
    "from sklearn.ensemble import RandomForestRegressor\n",
    "\n",
    "rf = RandomForestRegressor(n_estimators = 100)"
   ]
  },
  {
   "cell_type": "code",
   "execution_count": 97,
   "metadata": {},
   "outputs": [
    {
     "data": {
      "text/plain": [
       "RandomForestRegressor(bootstrap=True, criterion='mse', max_depth=None,\n",
       "           max_features='auto', max_leaf_nodes=None,\n",
       "           min_impurity_decrease=0.0, min_impurity_split=None,\n",
       "           min_samples_leaf=1, min_samples_split=2,\n",
       "           min_weight_fraction_leaf=0.0, n_estimators=100, n_jobs=1,\n",
       "           oob_score=False, random_state=None, verbose=0, warm_start=False)"
      ]
     },
     "execution_count": 97,
     "metadata": {},
     "output_type": "execute_result"
    }
   ],
   "source": [
    "rf.fit(X_tr, y_tr)"
   ]
  },
  {
   "cell_type": "code",
   "execution_count": 102,
   "metadata": {},
   "outputs": [
    {
     "name": "stdout",
     "output_type": "stream",
     "text": [
      "MAE: 0.05192607331501881\n"
     ]
    }
   ],
   "source": [
    "yhat = rf.predict(X_ts)\n",
    "confine_predictions(yhat)\n",
    "yhat_rf = yhat\n",
    "mae_rf = np.mean(abs(y_ts - yhat_rf))\n",
    "print('MAE:', mae_rf)"
   ]
  },
  {
   "cell_type": "markdown",
   "metadata": {},
   "source": [
    "Boosting"
   ]
  },
  {
   "cell_type": "code",
   "execution_count": 21,
   "metadata": {},
   "outputs": [],
   "source": [
    "from xgboost import XGBClassifier\n",
    "from sklearn.metrics import accuracy_score"
   ]
  },
  {
   "cell_type": "code",
   "execution_count": 22,
   "metadata": {},
   "outputs": [],
   "source": [
    "boosting = XGBClassifier(n_estimators = 1)"
   ]
  },
  {
   "cell_type": "code",
   "execution_count": null,
   "metadata": {},
   "outputs": [],
   "source": []
  },
  {
   "cell_type": "code",
   "execution_count": null,
   "metadata": {},
   "outputs": [],
   "source": [
    "boosting.fit(X_tr, y_tr)"
   ]
  },
  {
   "cell_type": "code",
   "execution_count": null,
   "metadata": {},
   "outputs": [],
   "source": [
    "yhat = boosting.predict(X_ts)\n",
    "confine_predictions(yhat)\n",
    "yhat_boosting = yhat\n",
    "mae_boosting = np.mean(abs(y_ts - yhat_boosting))\n",
    "print('MAE:', mae_boosting)"
   ]
  },
  {
   "cell_type": "code",
   "execution_count": 16,
   "metadata": {},
   "outputs": [],
   "source": [
    "#output test train file\n",
    "X_tr_output = pd.DataFrame(X_tr)\n",
    "X_ts_output = pd.DataFrame(X_ts)\n",
    "y_tr_output = pd.DataFrame(y_tr)\n",
    "y_ts_output = pd.DataFrame(y_ts)\n"
   ]
  },
  {
   "cell_type": "code",
   "execution_count": 17,
   "metadata": {},
   "outputs": [],
   "source": [
    "pd.DataFrame.to_csv(X_tr_output, '/Users/lumi/Documents/UCLA/Grad/18 FALL/273/Pubg/pudg/all/X_tr.csv')"
   ]
  },
  {
   "cell_type": "code",
   "execution_count": 18,
   "metadata": {},
   "outputs": [],
   "source": [
    "pd.DataFrame.to_csv(X_ts_output, '/Users/lumi/Documents/UCLA/Grad/18 FALL/273/Pubg/pudg/all/X_ts.csv')"
   ]
  },
  {
   "cell_type": "code",
   "execution_count": 19,
   "metadata": {},
   "outputs": [],
   "source": [
    "pd.DataFrame.to_csv(y_tr_output, '/Users/lumi/Documents/UCLA/Grad/18 FALL/273/Pubg/pudg/all/y_tr.csv')"
   ]
  },
  {
   "cell_type": "code",
   "execution_count": 20,
   "metadata": {},
   "outputs": [],
   "source": [
    "pd.DataFrame.to_csv(y_ts_output, '/Users/lumi/Documents/UCLA/Grad/18 FALL/273/Pubg/pudg/all/y_ts.csv')"
   ]
  },
  {
   "cell_type": "code",
   "execution_count": null,
   "metadata": {},
   "outputs": [],
   "source": []
  }
 ],
 "metadata": {
  "kernelspec": {
   "display_name": "Python 3",
   "language": "python",
   "name": "python3"
  },
  "language_info": {
   "codemirror_mode": {
    "name": "ipython",
    "version": 3
   },
   "file_extension": ".py",
   "mimetype": "text/x-python",
   "name": "python",
   "nbconvert_exporter": "python",
   "pygments_lexer": "ipython3",
   "version": "3.6.5"
  }
 },
 "nbformat": 4,
 "nbformat_minor": 2
}
